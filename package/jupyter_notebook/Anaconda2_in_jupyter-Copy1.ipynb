{
 "cells": [
  {
   "cell_type": "code",
   "execution_count": 1,
   "id": "employed-property",
   "metadata": {
    "scrolled": true
   },
   "outputs": [
    {
     "name": "stdout",
     "output_type": "stream",
     "text": [
      "\n",
      "raw_data = \n",
      "\n",
      "  struct with fields:\n",
      "\n",
      "    e: [1x1 struct]\n",
      "    h: [1x1 struct]\n",
      "\n",
      "\n"
     ]
    }
   ],
   "source": [
    "%data = IO.COBOLD.import_example()\n",
    "% In case you want to open your own file (.dlt, or .txt from LMF, or HDF5:\n",
    "% load data\n",
    "dir= 'E:\\PhD\\CIEL\\delayscan04_';\n",
    "raw_data = IO.import_raw(dir)"
   ]
  },
  {
   "cell_type": "code",
   "execution_count": 5,
   "id": "considered-welsh",
   "metadata": {},
   "outputs": [
    {
     "name": "stdout",
     "output_type": "stream",
     "text": [
      "\n",
      "mdata = \n",
      "\n",
      "  struct with fields:\n",
      "\n",
      "    sample: [1x1 struct]\n",
      "    photon: [1x1 struct]\n",
      "      spec: [1x1 struct]\n",
      "       det: [1x1 struct]\n",
      "      corr: [1x1 struct]\n",
      "     calib: [1x1 struct]\n",
      "      conv: [1x1 struct]\n",
      "      cond: [1x1 struct]\n",
      "      plot: [1x1 struct]\n",
      "\n",
      "\n"
     ]
    }
   ],
   "source": [
    "%% define metadata\n",
    "mdata = load('E:\\PhD\\CIEL\\md_delayscan04_.mat','mdata'); %%% select the mdata to use\n",
    "mdata =mdata.mdata"
   ]
  },
  {
   "cell_type": "code",
   "execution_count": 6,
   "id": "local-transcript",
   "metadata": {},
   "outputs": [
    {
     "name": "stdout",
     "output_type": "stream",
     "text": [
      "\n",
      "ans = \n",
      "\n",
      "  struct with fields:\n",
      "\n",
      "    raw: [375x3 double]\n",
      "\n",
      "\n",
      "mdata = \n",
      "\n",
      "  struct with fields:\n",
      "\n",
      "    sample: [1x1 struct]\n",
      "    photon: [1x1 struct]\n",
      "      spec: [1x1 struct]\n",
      "       det: [1x1 struct]\n",
      "      corr: [1x1 struct]\n",
      "     calib: [1x1 struct]\n",
      "      conv: [1x1 struct]\n",
      "      cond: [1x1 struct]\n",
      "      plot: [1x1 struct]\n",
      "       fit: [1x1 struct]\n",
      "\n",
      "\n"
     ]
    }
   ],
   "source": []
  },
  {
   "cell_type": "code",
   "execution_count": 6,
   "id": "rural-manchester",
   "metadata": {},
   "outputs": [
    {
     "name": "stderr",
     "output_type": "stream",
     "text": [
      "\u001b[1;31mUnrecognized function or variable 'data'.\n",
      "\n",
      "\u001b[0m"
     ]
    },
    {
     "ename": "Error",
     "evalue": -1,
     "output_type": "error",
     "traceback": "Unrecognized function or variable 'data'.\n"
    }
   ],
   "source": [
    "data_XYshifted = macro.correct.dXdY(data, mdata, 'det1');"
   ]
  },
  {
   "cell_type": "code",
   "execution_count": 8,
   "id": "missing-stephen",
   "metadata": {},
   "outputs": [
    {
     "name": "stdout",
     "output_type": "stream",
     "text": [
      "Log: Detector image translation correction performed on det2\n",
      "Log: Detector image rotation correction performed on det2\n",
      "Log: delta TOF correction performed on det2\n",
      "Log: Detector image translation correction performed on det1\n",
      "Log: Detector image rotation correction performed on det1\n",
      "Log: delta TOF correction performed on det1\n",
      "\n"
     ]
    }
   ],
   "source": [
    "data_corrected = macro.correct(data, mdata);\n"
   ]
  }
 ],
 "metadata": {
  "kernelspec": {
   "display_name": "Matlab",
   "language": "matlab",
   "name": "matlab"
  },
  "language_info": {
   "codemirror_mode": "octave",
   "file_extension": ".m",
   "help_links": [
    {
     "text": "MetaKernel Magics",
     "url": "https://metakernel.readthedocs.io/en/latest/source/README.html"
    }
   ],
   "mimetype": "text/x-octave",
   "name": "matlab",
   "version": "0.16.11"
  }
 },
 "nbformat": 4,
 "nbformat_minor": 5
}
