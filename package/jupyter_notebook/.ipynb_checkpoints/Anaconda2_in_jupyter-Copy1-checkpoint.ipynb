{
 "cells": [
  {
   "cell_type": "code",
   "execution_count": 4,
   "id": "auburn-monday",
   "metadata": {},
   "outputs": [
    {
     "name": "stdout",
     "output_type": "stream",
     "text": [
      "no data given, dummy data file imported instead\n",
      "\n"
     ]
    }
   ],
   "source": [
    "%data = IO.COBOLD.import_example()\n",
    "% In case you want to open your own file (.dlt, or .txt from LMF, or HDF5:\n",
    "try data = IO.import_raw('./Documents/Lund/HDF5_example/Ar_BMon_noB_260eV_vmi_like_singlebunch_1.hdf5t');\n",
    "catch data = IO.COBOLD.import_example();\n",
    "end"
   ]
  },
  {
   "cell_type": "code",
   "execution_count": 6,
   "id": "foster-tokyo",
   "metadata": {},
   "outputs": [
    {
     "name": "stdout",
     "output_type": "stream",
     "text": [
      "\n",
      "ans = \n",
      "\n",
      "  struct with fields:\n",
      "\n",
      "    raw: [375x3 double]\n",
      "\n",
      "\n",
      "mdata = \n",
      "\n",
      "  struct with fields:\n",
      "\n",
      "    sample: [1x1 struct]\n",
      "    photon: [1x1 struct]\n",
      "      spec: [1x1 struct]\n",
      "       det: [1x1 struct]\n",
      "      corr: [1x1 struct]\n",
      "     calib: [1x1 struct]\n",
      "      conv: [1x1 struct]\n",
      "      cond: [1x1 struct]\n",
      "      plot: [1x1 struct]\n",
      "       fit: [1x1 struct]\n",
      "\n",
      "\n"
     ]
    }
   ],
   "source": [
    "data.h.det1\n",
    "mdata = metadata.defaults.exp.CIEL.md_all_defaults"
   ]
  },
  {
   "cell_type": "code",
   "execution_count": 7,
   "id": "daily-tradition",
   "metadata": {},
   "outputs": [
    {
     "name": "stdout",
     "output_type": "stream",
     "text": [
      "Log: Detector image translation correction performed on det1\n",
      "\n"
     ]
    }
   ],
   "source": [
    "data_XYshifted = macro.correct.dXdY(data, mdata, 'det1');"
   ]
  },
  {
   "cell_type": "code",
   "execution_count": 8,
   "id": "forty-cleveland",
   "metadata": {},
   "outputs": [
    {
     "name": "stdout",
     "output_type": "stream",
     "text": [
      "Log: Detector image translation correction performed on det2\n",
      "Log: Detector image rotation correction performed on det2\n",
      "Log: delta TOF correction performed on det2\n",
      "Log: Detector image translation correction performed on det1\n",
      "Log: Detector image rotation correction performed on det1\n",
      "Log: delta TOF correction performed on det1\n",
      "\n"
     ]
    }
   ],
   "source": [
    "data_corrected = macro.correct(data, mdata);\n"
   ]
  }
 ],
 "metadata": {
  "kernelspec": {
   "display_name": "Matlab",
   "language": "matlab",
   "name": "matlab"
  },
  "language_info": {
   "codemirror_mode": "octave",
   "file_extension": ".m",
   "help_links": [
    {
     "text": "MetaKernel Magics",
     "url": "https://metakernel.readthedocs.io/en/latest/source/README.html"
    }
   ],
   "mimetype": "text/x-octave",
   "name": "matlab",
   "version": "0.16.11"
  }
 },
 "nbformat": 4,
 "nbformat_minor": 5
}
