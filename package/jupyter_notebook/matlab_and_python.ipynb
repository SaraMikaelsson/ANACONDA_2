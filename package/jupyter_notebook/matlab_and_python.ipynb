{
 "cells": [
  {
   "cell_type": "code",
   "execution_count": 4,
   "id": "infrared-impression",
   "metadata": {
    "kernel": "Matlab"
   },
   "outputs": [
    {
     "name": "stdout",
     "output_type": "stream",
     "text": [
      "hehe\n",
      "\n"
     ]
    }
   ],
   "source": [
    "%this is matlab\n",
    "disp('hehe')"
   ]
  },
  {
   "cell_type": "code",
   "execution_count": 5,
   "id": "welsh-navigator",
   "metadata": {
    "kernel": "Python 3"
   },
   "outputs": [
    {
     "name": "stdout",
     "output_type": "stream",
     "text": [
      "haha\n"
     ]
    }
   ],
   "source": [
    "#this is python\n",
    "print('haha')"
   ]
  },
  {
   "cell_type": "code",
   "execution_count": null,
   "id": "artificial-container",
   "metadata": {
    "kernel": "Matlab"
   },
   "outputs": [],
   "source": []
  }
 ],
 "metadata": {
  "kernelspec": {
   "display_name": "SoS",
   "language": "sos",
   "name": "sos"
  },
  "language_info": {
   "codemirror_mode": "sos",
   "file_extension": ".sos",
   "mimetype": "text/x-sos",
   "name": "sos",
   "nbconvert_exporter": "sos_notebook.converter.SoS_Exporter",
   "pygments_lexer": "sos"
  },
  "sos": {
   "kernels": [
    [
     "Matlab",
     "matlab",
     "matlab",
     "",
     ""
    ],
    [
     "Python 3",
     "python3",
     "python3",
     "",
     ""
    ]
   ],
   "panel": {
    "displayed": true,
    "height": 0
   },
   "version": "0.22.5"
  }
 },
 "nbformat": 4,
 "nbformat_minor": 5
}
