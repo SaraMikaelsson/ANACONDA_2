{
 "cells": [
  {
   "cell_type": "code",
   "execution_count": 8,
   "id": "increasing-miller",
   "metadata": {
    "kernel": "Matlab"
   },
   "outputs": [
    {
     "name": "stdout",
     "output_type": "stream",
     "text": [
      "hehe\n",
      "\n"
     ]
    }
   ],
   "source": [
    "%this is matlab\n",
    "disp('hehe')"
   ]
  },
  {
   "cell_type": "code",
   "execution_count": 10,
   "id": "applicable-theory",
   "metadata": {
    "kernel": "Python 3"
   },
   "outputs": [
    {
     "name": "stdout",
     "output_type": "stream",
     "text": [
      "haha\n"
     ]
    }
   ],
   "source": [
    "#this is python\n",
    "print('haha')"
   ]
  },
  {
   "cell_type": "code",
   "execution_count": 19,
   "id": "tough-routine",
   "metadata": {
    "kernel": "Matlab"
   },
   "outputs": [
    {
     "name": "stderr",
     "output_type": "stream",
     "text": [
      "\u001b[1;31mUndefined function 'put' for input arguments of type 'char'.\n",
      "\n",
      "\u001b[0m"
     ]
    },
    {
     "ename": "Error",
     "evalue": -1,
     "output_type": "error",
     "traceback": "Undefined function 'put' for input arguments of type 'char'.\n"
    }
   ],
   "source": [
    "% load data\n",
    "dir= 'E:\\PhD\\CIEL\\delayscan04_';\n",
    "raw_data = IO.import_raw(dir)\n",
    "%put raw_data"
   ]
  },
  {
   "cell_type": "code",
   "execution_count": 18,
   "id": "mediterranean-preview",
   "metadata": {
    "kernel": "Python 3"
   },
   "outputs": [
    {
     "name": "stderr",
     "output_type": "stream",
     "text": [
      "Variable raw_data does not exist\n"
     ]
    }
   ],
   "source": [
    "%get raw_data "
   ]
  }
 ],
 "metadata": {
  "kernelspec": {
   "display_name": "SoS",
   "language": "sos",
   "name": "sos"
  },
  "language_info": {
   "codemirror_mode": "sos",
   "file_extension": ".sos",
   "mimetype": "text/x-sos",
   "name": "sos",
   "nbconvert_exporter": "sos_notebook.converter.SoS_Exporter",
   "pygments_lexer": "sos"
  },
  "sos": {
   "kernels": [
    [
     "Matlab",
     "matlab",
     "matlab",
     "",
     "octave"
    ],
    [
     "Python 3",
     "python3",
     "python3",
     "",
     {
      "name": "ipython",
      "version": 3
     }
    ]
   ],
   "panel": {
    "displayed": true,
    "height": 0
   },
   "version": "0.22.5"
  }
 },
 "nbformat": 4,
 "nbformat_minor": 5
}
